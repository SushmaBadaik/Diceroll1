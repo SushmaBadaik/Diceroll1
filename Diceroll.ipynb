{
  "nbformat": 4,
  "nbformat_minor": 0,
  "metadata": {
    "colab": {
      "provenance": []
    },
    "kernelspec": {
      "name": "python3",
      "display_name": "Python 3"
    },
    "language_info": {
      "name": "python"
    }
  },
  "cells": [
    {
      "cell_type": "code",
      "execution_count": null,
      "metadata": {
        "id": "inQqU0ZJcGSK"
      },
      "outputs": [],
      "source": [
        "import random\n",
        "while True:\n",
        "  print (\"'1.roll the dice 7.exit'\")\n",
        "  user=int(input(\"what you want to do\\n\"))\n",
        "  if user==1:\n",
        "    number=random.randint(1,6)\n",
        "    print(number)\n",
        "  else:\n",
        "      break"
      ]
    }
  ]
}